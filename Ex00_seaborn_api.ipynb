{
 "cells": [
  {
   "cell_type": "markdown",
   "metadata": {},
   "source": [
    "https://seaborn.pydata.org/api.html\n",
    "\n",
    "### 1. 변수간 상관관계\n",
    "\n",
    "#### 1) Relational  plots\n",
    "\n",
    "    relplot\n",
    "    scatterplot\n",
    "    lineplot\n",
    "\n",
    "\n",
    "\n",
    "#### 2) Regression  plots\n",
    "\n",
    "    lmplot\n",
    "    regplot\n",
    "    residplot\n",
    "\n",
    "\n",
    "\n",
    "### 2. 데이터 분포(Distribution plots)\n",
    "\n",
    "    displot\n",
    "    kdeplot\n",
    "    rugplot\n",
    "\n",
    "\n",
    "\n",
    "### 3. 범주형 데이터(Categorical plots)\n",
    "\n",
    "    catplot\n",
    "    stripplot\n",
    "    swarmplot\n",
    "    boxplot\n",
    "    violinplot\n",
    "    boxenplot\n",
    "    pointplot\n",
    "    barplot\n",
    "    countplot\n",
    "\n",
    "\n",
    "\n",
    "### 4. 매트릭스 형태(Matrix plots)\n",
    "\n",
    "    heatmap\n",
    "    clustermap\n",
    "\n",
    "\n",
    "\n",
    "### 5. 여러 개의 그래프를 한번에 그리기(Multi-plot)\n",
    "\n",
    "    FacetGird\n",
    "    pairplot\n",
    "    jointplot"
   ]
  },
  {
   "cell_type": "code",
   "execution_count": null,
   "metadata": {},
   "outputs": [],
   "source": [
    "import seaborn as sns\n",
    "import matplotlib.pyplot as plt\n",
    "%matplotlib inline\n",
    "sns.set(style=\"ticks\")"
   ]
  },
  {
   "cell_type": "code",
   "execution_count": null,
   "metadata": {},
   "outputs": [],
   "source": [
    "# import matplotlib as mpl\n",
    "# 한글폰트 깨지지 않도록\n",
    "# plt.rc('font', family='NanumGothic')\n",
    "# print(plt.rcParams['font.family'])\n",
    "# mpl.rcParams['axes.unicode_minus'] = False"
   ]
  },
  {
   "cell_type": "code",
   "execution_count": null,
   "metadata": {},
   "outputs": [],
   "source": [
    "tips = sns.load_dataset(\"tips\")\n",
    "tips.head()"
   ]
  },
  {
   "cell_type": "code",
   "execution_count": null,
   "metadata": {},
   "outputs": [],
   "source": [
    "#total_bill, tip이랑 어떤 관계가 있을까?\n",
    "# relplot\n",
    "# scatterplot\n",
    "# lineplot"
   ]
  },
  {
   "cell_type": "code",
   "execution_count": null,
   "metadata": {},
   "outputs": [],
   "source": [
    "# lmplot\n",
    "# regplot\n",
    "# residplot"
   ]
  },
  {
   "cell_type": "code",
   "execution_count": null,
   "metadata": {},
   "outputs": [],
   "source": [
    "# total_bill의 분포는?\n",
    "# displot\n",
    "# kdeplot\n",
    "# rugplot"
   ]
  },
  {
   "cell_type": "code",
   "execution_count": null,
   "metadata": {},
   "outputs": [],
   "source": [
    "# 요일별 매출(total_bill)\n",
    "# catplot\n",
    "# stripplot\n",
    "# swarmplot\n",
    "# boxplot\n",
    "# violinplot\n",
    "# boxenplot\n",
    "# pointplot\n",
    "# barplot\n",
    "# countplot"
   ]
  }
 ],
 "metadata": {
  "kernelspec": {
   "display_name": "Python 3",
   "language": "python",
   "name": "python3"
  },
  "language_info": {
   "codemirror_mode": {
    "name": "ipython",
    "version": 3
   },
   "file_extension": ".py",
   "mimetype": "text/x-python",
   "name": "python",
   "nbconvert_exporter": "python",
   "pygments_lexer": "ipython3",
   "version": "3.7.6"
  }
 },
 "nbformat": 4,
 "nbformat_minor": 4
}
